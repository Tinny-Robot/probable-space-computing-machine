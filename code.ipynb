{
 "cells": [
  {
   "cell_type": "code",
   "execution_count": 1,
   "metadata": {},
   "outputs": [],
   "source": [
    "model_name =  \"tts_models/hau/openbible/vits\""
   ]
  },
  {
   "cell_type": "code",
   "execution_count": 44,
   "metadata": {},
   "outputs": [],
   "source": [
    "import openai\n",
    "import os\n",
    "import json\n",
    "\n",
    "openai.api_key  =  \"sk-proj-srMltIo8qj00s9Qz8sV6T3BlbkFJT96MIBCCzlVbIuTYCOlw\"\n",
    "\n",
    "settings = \"you are a hausa AI assitant, Called Bauchi A.I, trained By Nathaniel Handan, you anly response in hausa no matter what you are conversational, make response short, your output is passed to a text-to-speech engine, try to make it competely readable\""
   ]
  },
  {
   "cell_type": "code",
   "execution_count": 45,
   "metadata": {},
   "outputs": [],
   "source": [
    "messages = [{\"role\": \"system\", \"content\": settings}]\n",
    "\n",
    "def get_completion(prompt, model=\"gpt-4o\"):\n",
    "    messages.append({\"role\": \"user\", \"content\": prompt})\n",
    "    response = openai.chat.completions.create(\n",
    "        model=model,\n",
    "        messages=messages,\n",
    "        temperature=0, # this is the degree of randomness of the model's output\n",
    "    )\n",
    "    messages.append({\"role\": \"assistant\", \"content\": response.choices[0].message.content})\n",
    "    return response.choices[0].message.content"
   ]
  },
  {
   "cell_type": "code",
   "execution_count": 46,
   "metadata": {},
   "outputs": [],
   "source": [
    "\n",
    "def detect(prompt, model=\"gpt-4o\"):\n",
    "    message = [{\"role\": \"system\", \"content\": \"you are an AI languague Detector, just return 1 if given prompt is hausa and 0 else, only return 1 or 0\"}]\n",
    "    message.append({\"role\": \"user\", \"content\": prompt})\n",
    "    response = openai.chat.completions.create(\n",
    "        model=model,\n",
    "        messages=message,\n",
    "        temperature=0, # this is the degree of randomness of the model's output\n",
    "    )\n",
    "    return response.choices[0].message.content"
   ]
  },
  {
   "cell_type": "code",
   "execution_count": 40,
   "metadata": {},
   "outputs": [],
   "source": [
    "sentence = 'Ina godiya sosai! Ni ma ina jin daɗin kasancewa tare da kai. Yaya zan iya taimaka maka a yau?'\n",
    "\n",
    "# sentence = 'This is a boy'"
   ]
  },
  {
   "cell_type": "code",
   "execution_count": 41,
   "metadata": {
    "scrolled": true
   },
   "outputs": [
    {
     "data": {
      "text/plain": [
       "True"
      ]
     },
     "execution_count": 41,
     "metadata": {},
     "output_type": "execute_result"
    }
   ],
   "source": [
    "bool(int(detect(sentence)))"
   ]
  },
  {
   "cell_type": "code",
   "execution_count": 2,
   "metadata": {},
   "outputs": [
    {
     "name": "stdout",
     "output_type": "stream",
     "text": [
      " > tts_models/hau/openbible/vits is already downloaded.\n",
      " > Using model: vits\n",
      " > Setting up Audio Processor...\n",
      " | > sample_rate:22050\n",
      " | > resample:False\n",
      " | > num_mels:80\n",
      " | > log_func:np.log10\n",
      " | > min_level_db:0\n",
      " | > frame_shift_ms:None\n",
      " | > frame_length_ms:None\n",
      " | > ref_level_db:None\n",
      " | > fft_size:1024\n",
      " | > power:None\n",
      " | > preemphasis:0.0\n",
      " | > griffin_lim_iters:None\n",
      " | > signal_norm:None\n",
      " | > symmetric_norm:None\n",
      " | > mel_fmin:0\n",
      " | > mel_fmax:None\n",
      " | > pitch_fmin:None\n",
      " | > pitch_fmax:None\n",
      " | > spec_gain:20.0\n",
      " | > stft_pad_mode:reflect\n",
      " | > max_norm:1.0\n",
      " | > clip_norm:True\n",
      " | > do_trim_silence:False\n",
      " | > trim_db:60\n",
      " | > do_sound_norm:False\n",
      " | > do_amp_to_db_linear:True\n",
      " | > do_amp_to_db_mel:True\n",
      " | > do_rms_norm:False\n",
      " | > db_level:None\n",
      " | > stats_path:None\n",
      " | > base:10\n",
      " | > hop_length:256\n",
      " | > win_length:1024\n"
     ]
    }
   ],
   "source": [
    "import torch\n",
    "from TTS.api import TTS\n",
    "\n",
    "model_name = \"tts_models/hau/openbible/vits\"\n",
    "\n",
    "\n",
    "\n",
    "# Init TTS\n",
    "tts = TTS(model_name)"
   ]
  },
  {
   "cell_type": "code",
   "execution_count": 3,
   "metadata": {},
   "outputs": [],
   "source": [
    "def generate_wav(text):\n",
    "    wav = tts.tts(text=text, speaker_wav=\"my/cloning/audio.wav\")\n",
    "    return wav"
   ]
  },
  {
   "cell_type": "code",
   "execution_count": 4,
   "metadata": {},
   "outputs": [],
   "source": [
    "from translate import Translator\n",
    "# Function to translate text to Yoruba\n",
    "def translate_to_hausa(text):\n",
    "    translator = Translator(to_lang=\"ha\")\n",
    "    translated_text = translator.translate(text)\n",
    "    return translated_text\n"
   ]
  },
  {
   "cell_type": "code",
   "execution_count": null,
   "metadata": {},
   "outputs": [],
   "source": [
    "from google_trans_new import google_translator\n",
    "\n",
    "from langdetect import detect"
   ]
  },
  {
   "cell_type": "code",
   "execution_count": 47,
   "metadata": {},
   "outputs": [
    {
     "data": {
      "application/vnd.jupyter.widget-view+json": {
       "model_id": "7a0453de41f2445e9933d18b4bb7d07d",
       "version_major": 2,
       "version_minor": 0
      },
      "text/plain": [
       "Textarea(value='', description='Enter Text:', rows=3)"
      ]
     },
     "metadata": {},
     "output_type": "display_data"
    },
    {
     "data": {
      "application/vnd.jupyter.widget-view+json": {
       "model_id": "11b98ac667ac48939996a4d8f99bfac7",
       "version_major": 2,
       "version_minor": 0
      },
      "text/plain": [
       "Button(description='Generate Audio', style=ButtonStyle())"
      ]
     },
     "metadata": {},
     "output_type": "display_data"
    },
    {
     "data": {
      "application/vnd.jupyter.widget-view+json": {
       "model_id": "2a5a92b550a74ca283bda38de6755018",
       "version_major": 2,
       "version_minor": 0
      },
      "text/plain": [
       "Output()"
      ]
     },
     "metadata": {},
     "output_type": "display_data"
    }
   ],
   "source": [
    "import ipywidgets as widgets\n",
    "from IPython.display import Audio, display\n",
    "\n",
    "# Create text input widget\n",
    "text_input = widgets.Textarea(description='Enter Text:', rows=3)\n",
    "\n",
    "# Create button widget\n",
    "button = widgets.Button(description='Generate Audio')\n",
    "\n",
    "# Create output widget\n",
    "output = widgets.Output()\n",
    "\n",
    "# Define event handler function\n",
    "def translate_and_generate_audio(_):\n",
    "    with output:\n",
    "        # Get the input text\n",
    "        text = text_input.value\n",
    "        \n",
    "        translated_text = get_completion(text)\n",
    "        \n",
    "        # Generate WAV file\n",
    "        wav = generate_wav(translated_text)\n",
    "        \n",
    "        # Display audio\n",
    "        display(Audio(wav, rate= 22000))\n",
    "        \n",
    "# Register event handler function to button click event\n",
    "button.on_click(translate_and_generate_audio)\n",
    "\n",
    "# Display widgets\n",
    "display(text_input, button, output)\n"
   ]
  },
  {
   "cell_type": "code",
   "execution_count": 43,
   "metadata": {},
   "outputs": [
    {
     "data": {
      "text/plain": [
       "[{'role': 'system',\n",
       "  'content': 'you are a hausa AI assitant, Called Bauchi A.I, trained By Nathaniel Handan, you anly response in hausa no matter what you are conversational, make response short'},\n",
       " {'role': 'user', 'content': 'Hello, Good Afternoon\\n'},\n",
       " {'role': 'assistant', 'content': 'Barka da rana! Yaya kake/kike?'},\n",
       " {'role': 'user', 'content': 'tell me about hausa history'},\n",
       " {'role': 'assistant',\n",
       "  'content': \"Tarihin Hausawa ya fara tun da dadewa, suna zaune a yankin arewacin Najeriya da wasu sassan Nijar. Sun kafa garuruwa kamar Kano, Katsina, Zaria, da Gobir. Hausawa sun shahara wajen kasuwanci, noma, da kuma sana'o'i. Sun karɓi addinin Musulunci a ƙarni na 14.\"}]"
      ]
     },
     "execution_count": 43,
     "metadata": {},
     "output_type": "execute_result"
    }
   ],
   "source": [
    "messages"
   ]
  },
  {
   "cell_type": "code",
   "execution_count": null,
   "metadata": {},
   "outputs": [],
   "source": []
  }
 ],
 "metadata": {
  "kernelspec": {
   "display_name": "Python 3 (ipykernel)",
   "language": "python",
   "name": "python3"
  },
  "language_info": {
   "codemirror_mode": {
    "name": "ipython",
    "version": 3
   },
   "file_extension": ".py",
   "mimetype": "text/x-python",
   "name": "python",
   "nbconvert_exporter": "python",
   "pygments_lexer": "ipython3",
   "version": "3.10.14"
  }
 },
 "nbformat": 4,
 "nbformat_minor": 4
}
